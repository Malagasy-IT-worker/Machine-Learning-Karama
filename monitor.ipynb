{
 "cells": [
  {
   "cell_type": "markdown",
   "metadata": {},
   "source": [
    "# Business Problem\n",
    "\n",
    "- Can a machine learning project be realized for salary predictions of Malagasy developers who work in Madagascar?"
   ]
  },
  {
   "cell_type": "markdown",
   "metadata": {},
   "source": [
    "# Dataset Story\n",
    "\n",
    "- This dataset was originally taken from the facebook group of Malagasy Developers 'facedev'\n",
    "- This contains just few observations but let's try if it will fit a good Machine Learning\n",
    "\n",
    "**Variables**\n",
    "\n",
    "- **Local:** The local of the company(Tana, Toliara, Mahajanga) or Remote\n",
    "- **Titre:** Title of the post occupated\n",
    "- **Exp:** The experience in year\n",
    "- **Salary:** Our main target in Ariary per Month\n"
   ]
  },
  {
   "cell_type": "markdown",
   "metadata": {},
   "source": [
    "# Roadmap\n",
    "\n",
    "- **1. Import required libraries**\n",
    "- **2. Loading the dataset**\n",
    "- **3. Exploratory Data Analysis**\n",
    "- **4. Analysis of categorical variables**\n",
    "- **5. Correlation Analysis**\n",
    "- **6. Examining the Logarithm of the depedent variable**\n",
    "- **7. Outliers analysis**\n",
    "- **8. Feature extraction**\n",
    "- **9. Encoding**\n",
    "- **10. Standardization Process**\n",
    "- **11. Creating Model**\n",
    "- **12. Hyperparameter optimization**\n",
    "- **13. Final model predictions and comparison with true prices**"
   ]
  },
  {
   "cell_type": "markdown",
   "metadata": {},
   "source": [
    "# 1. Import Required Libraries"
   ]
  },
  {
   "cell_type": "code",
   "execution_count": 1,
   "metadata": {},
   "outputs": [],
   "source": [
    "# Import librairies\n",
    "import numpy as np\n",
    "import pandas as pd\n",
    "import matplotlib.pyplot as plt\n",
    "import seaborn as sns\n",
    "import warnings\n",
    "import time\n",
    "\n",
    "from sklearn.ensemble import RandomForestRegressor, GradientBoostingRegressor\n",
    "from sklearn.exceptions import ConvergenceWarning\n",
    "from sklearn.linear_model import LinearRegression, Ridge, Lasso, ElasticNet\n",
    "from sklearn.neighbors import KNeighborsRegressor\n",
    "from sklearn.svm import SVR\n",
    "from sklearn.tree import DecisionTreeRegressor\n",
    "from xgboost import XGBRegressor\n",
    "from sklearn.preprocessing import LabelEncoder\n",
    "from sklearn import metrics\n",
    "from sklearn.metrics import mean_squared_error, mean_absolute_error, r2_score\n",
    "from sklearn.model_selection import train_test_split, cross_val_score, GridSearchCV\n",
    "from sklearn.preprocessing import MinMaxScaler, LabelEncoder, StandardScaler, RobustScaler\n",
    "\n",
    "warnings.simplefilter(action='ignore', category=FutureWarning)\n",
    "warnings.simplefilter(\"ignore\", category=ConvergenceWarning)"
   ]
  },
  {
   "cell_type": "markdown",
   "metadata": {},
   "source": [
    "# 2. Load the dataset"
   ]
  },
  {
   "cell_type": "code",
   "execution_count": 2,
   "metadata": {},
   "outputs": [],
   "source": [
    "df = pd.read_csv(\"data/Karama (réponses) - Réponses _cleaned_.csv\")"
   ]
  },
  {
   "cell_type": "code",
   "execution_count": 3,
   "metadata": {},
   "outputs": [
    {
     "data": {
      "text/html": [
       "<div>\n",
       "<style scoped>\n",
       "    .dataframe tbody tr th:only-of-type {\n",
       "        vertical-align: middle;\n",
       "    }\n",
       "\n",
       "    .dataframe tbody tr th {\n",
       "        vertical-align: top;\n",
       "    }\n",
       "\n",
       "    .dataframe thead th {\n",
       "        text-align: right;\n",
       "    }\n",
       "</style>\n",
       "<table border=\"1\" class=\"dataframe\">\n",
       "  <thead>\n",
       "    <tr style=\"text-align: right;\">\n",
       "      <th></th>\n",
       "      <th>Firenena Hitoerana</th>\n",
       "      <th>Province/Remote</th>\n",
       "      <th>Titre</th>\n",
       "      <th>Taona niasana</th>\n",
       "      <th>Karama</th>\n",
       "      <th>Unité</th>\n",
       "      <th>Fréquence</th>\n",
       "    </tr>\n",
       "  </thead>\n",
       "  <tbody>\n",
       "    <tr>\n",
       "      <th>0</th>\n",
       "      <td>Belgique</td>\n",
       "      <td>Bruxelles</td>\n",
       "      <td>Consultant IT</td>\n",
       "      <td>8</td>\n",
       "      <td>48 000</td>\n",
       "      <td>€ (EUR)</td>\n",
       "      <td>Taona</td>\n",
       "    </tr>\n",
       "    <tr>\n",
       "      <th>1</th>\n",
       "      <td>Belgique</td>\n",
       "      <td>Belgique</td>\n",
       "      <td>Senior Fullstack.NET</td>\n",
       "      <td>10</td>\n",
       "      <td>66 000</td>\n",
       "      <td>€ (EUR)</td>\n",
       "      <td>Taona</td>\n",
       "    </tr>\n",
       "    <tr>\n",
       "      <th>2</th>\n",
       "      <td>Canada</td>\n",
       "      <td>Québec</td>\n",
       "      <td>Analyste programmeur junior</td>\n",
       "      <td>1,5</td>\n",
       "      <td>54 000</td>\n",
       "      <td>C$ (CAD)</td>\n",
       "      <td>Taona</td>\n",
       "    </tr>\n",
       "    <tr>\n",
       "      <th>3</th>\n",
       "      <td>Canada</td>\n",
       "      <td>Québec</td>\n",
       "      <td>Junior</td>\n",
       "      <td>2</td>\n",
       "      <td>40 000</td>\n",
       "      <td>C$ (CAD)</td>\n",
       "      <td>Taona</td>\n",
       "    </tr>\n",
       "    <tr>\n",
       "      <th>4</th>\n",
       "      <td>Canada</td>\n",
       "      <td>Québec</td>\n",
       "      <td>Dev Java</td>\n",
       "      <td>2</td>\n",
       "      <td>80 000</td>\n",
       "      <td>C$ (CAD)</td>\n",
       "      <td>Taona</td>\n",
       "    </tr>\n",
       "    <tr>\n",
       "      <th>5</th>\n",
       "      <td>Canada</td>\n",
       "      <td>Québec</td>\n",
       "      <td>Product Owner</td>\n",
       "      <td>3</td>\n",
       "      <td>22 000</td>\n",
       "      <td>C$ (CAD)</td>\n",
       "      <td>Taona</td>\n",
       "    </tr>\n",
       "    <tr>\n",
       "      <th>6</th>\n",
       "      <td>Canada</td>\n",
       "      <td>Québec</td>\n",
       "      <td>Analyste développeur</td>\n",
       "      <td>4,5</td>\n",
       "      <td>72 900</td>\n",
       "      <td>C$ (CAD)</td>\n",
       "      <td>Taona</td>\n",
       "    </tr>\n",
       "    <tr>\n",
       "      <th>7</th>\n",
       "      <td>Canada</td>\n",
       "      <td>Québec</td>\n",
       "      <td>Dev backend</td>\n",
       "      <td>6</td>\n",
       "      <td>70 000</td>\n",
       "      <td>C$ (CAD)</td>\n",
       "      <td>Taona</td>\n",
       "    </tr>\n",
       "  </tbody>\n",
       "</table>\n",
       "</div>"
      ],
      "text/plain": [
       "  Firenena Hitoerana Province/Remote  ...     Unité Fréquence\n",
       "0           Belgique       Bruxelles  ...   € (EUR)     Taona\n",
       "1           Belgique        Belgique  ...   € (EUR)     Taona\n",
       "2             Canada          Québec  ...  C$ (CAD)     Taona\n",
       "3             Canada          Québec  ...  C$ (CAD)     Taona\n",
       "4             Canada          Québec  ...  C$ (CAD)     Taona\n",
       "5             Canada          Québec  ...  C$ (CAD)     Taona\n",
       "6             Canada          Québec  ...  C$ (CAD)     Taona\n",
       "7             Canada          Québec  ...  C$ (CAD)     Taona\n",
       "\n",
       "[8 rows x 7 columns]"
      ]
     },
     "execution_count": 3,
     "metadata": {},
     "output_type": "execute_result"
    }
   ],
   "source": [
    "df.head(8)"
   ]
  },
  {
   "cell_type": "code",
   "execution_count": null,
   "metadata": {},
   "outputs": [],
   "source": []
  }
 ],
 "metadata": {
  "kernelspec": {
   "display_name": "data_science",
   "language": "python",
   "name": "python3"
  },
  "language_info": {
   "codemirror_mode": {
    "name": "ipython",
    "version": 3
   },
   "file_extension": ".py",
   "mimetype": "text/x-python",
   "name": "python",
   "nbconvert_exporter": "python",
   "pygments_lexer": "ipython3",
   "version": "3.8.19"
  }
 },
 "nbformat": 4,
 "nbformat_minor": 2
}
