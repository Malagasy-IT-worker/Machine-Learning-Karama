{
 "cells": [
  {
   "cell_type": "markdown",
   "metadata": {},
   "source": [
    "# Business Problem\n",
    "\n",
    "- Can a machine learning project be realized for salary predictions of Malagasy developers who work in Madagascar?"
   ]
  },
  {
   "cell_type": "markdown",
   "metadata": {},
   "source": [
    "# Dataset Story\n",
    "\n",
    "- This dataset was originally taken from the facebook group of Malagasy Developers 'facedev'\n",
    "- This contains just few observations but let's try if it will fit a good Machine Learning\n",
    "\n",
    "**Variables**\n",
    "\n",
    "- **Local:** The local of the company(Tana, Toliara, Mahajanga) or Remote\n",
    "- **Titre:** Title of the post occupated\n",
    "- **Exp:** The experience in year\n",
    "- **Salary:** Our main target in Ariary per Month\n"
   ]
  },
  {
   "cell_type": "markdown",
   "metadata": {},
   "source": [
    "# Roadmap\n",
    "\n",
    "- **1. Import required libraries**\n",
    "- **2. Loading the dataset**\n",
    "- **3. Exploratory Data Analysis**\n",
    "- **4. Analysis of categorical variables**\n",
    "- **5. Correlation Analysis**\n",
    "- **6. Examining the Logarithm of the depedent variable**\n",
    "- **7. Outliers analysis**\n",
    "- **8. Feature extraction**\n",
    "- **9. Encoding**\n",
    "- **10. Standardization Process**\n",
    "- **11. Creating Model**\n",
    "- **12. Hyperparameter optimization**\n",
    "- **13. Final model predictions and comparison with true prices**"
   ]
  },
  {
   "cell_type": "code",
   "execution_count": null,
   "metadata": {},
   "outputs": [],
   "source": [
    "# Import librairies\n"
   ]
  }
 ],
 "metadata": {
  "kernelspec": {
   "display_name": "data_science",
   "language": "python",
   "name": "python3"
  },
  "language_info": {
   "codemirror_mode": {
    "name": "ipython",
    "version": 3
   },
   "file_extension": ".py",
   "mimetype": "text/x-python",
   "name": "python",
   "nbconvert_exporter": "python",
   "pygments_lexer": "ipython3",
   "version": "3.8.19"
  }
 },
 "nbformat": 4,
 "nbformat_minor": 2
}
